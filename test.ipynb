{
 "cells": [
  {
   "cell_type": "code",
   "execution_count": 1,
   "metadata": {},
   "outputs": [
    {
     "name": "stdout",
     "output_type": "stream",
     "text": [
      "env: https_proxy=http://127.0.0.1:10000\n",
      "env: http_proxy=http://127.0.0.1:10000\n",
      "env: all_proxy=socks5://127.0.0.1:10000\n"
     ]
    }
   ],
   "source": [
    "%env https_proxy=http://127.0.0.1:10000\n",
    "%env http_proxy=http://127.0.0.1:10000\n",
    "%env all_proxy=socks5://127.0.0.1:10000"
   ]
  },
  {
   "cell_type": "code",
   "execution_count": 2,
   "metadata": {},
   "outputs": [],
   "source": [
    "import sys\n",
    "sys.path.insert(0, '/home/data/xuyijie/truthbrush/truthbrush')"
   ]
  },
  {
   "cell_type": "code",
   "execution_count": 3,
   "metadata": {},
   "outputs": [],
   "source": [
    "from truthbrush import api"
   ]
  },
  {
   "cell_type": "code",
   "execution_count": 4,
   "metadata": {},
   "outputs": [],
   "source": [
    "api_instance = api.Api(username='yeahjack', password='Hkustgzxyj1!')\n",
    "following_list = api_instance.user_following(user_handle='realDonaldTrump')\n"
   ]
  },
  {
   "cell_type": "code",
   "execution_count": 5,
   "metadata": {},
   "outputs": [
    {
     "data": {
      "text/plain": [
       "<generator object Api.user_following at 0x7f31402787b0>"
      ]
     },
     "execution_count": 5,
     "metadata": {},
     "output_type": "execute_result"
    }
   ],
   "source": [
    "following_list\n"
   ]
  },
  {
   "cell_type": "code",
   "execution_count": 6,
   "metadata": {},
   "outputs": [
    {
     "name": "stdout",
     "output_type": "stream",
     "text": [
      "107780257626128497\n"
     ]
    },
    {
     "name": "stderr",
     "output_type": "stream",
     "text": [
      "2023-07-09 12:31:55.680 | INFO     | truthbrush.api:_get_paginated:121 - Next: https://truthsocial.com/api/v1/accounts/107780257626128497/following?max_id=504444552, resp: <curl_cffi.requests.cookies.Response object at 0x7f31403f8650>, headers: Headers([('set-cookie', '__cf_bm=SxiuhXGoFYogFFXnuGDCcUrwEQ1dZAwyggbnIwXOb_0-1688905915-0-ASh8QuJWvbA00lwJK2elYzBW/s3VFqTAtTCrhwer+i9//p97Q7Ya3UVNfUa3ykgqklwUZuXJVk8ABpzp4LFWP9c=; path=/; expires=Sun, 09-Jul-23 13:01:55 GMT; domain=.truthsocial.com; HttpOnly; Secure; SameSite=None'), ('date', 'Sun, 09 Jul 2023 12:31:55 GMT'), ('content-type', 'application/json; charset=utf-8'), ('x-frame-options', 'DENY'), ('x-content-type-options', 'nosniff'), ('x-xss-protection', '1; mode=block'), ('permissions-policy', 'interest-cohort=()'), ('x-ratelimit-limit', '300'), ('x-ratelimit-remaining', '292'), ('x-ratelimit-reset', '2023-07-09T12:35:00.255814Z'), ('cache-control', 'no-store'), ('link', '<https://truthsocial.com/api/v1/accounts/107780257626128497/following?max_id=504444552>; rel=\"next\", <https://truthsocial.com/api/v1/accounts/107780257626128497/following?since_id=590598794>; rel=\"prev\"'), ('vary', 'Accept-Encoding, Origin'), ('content-encoding', 'gzip'), ('etag', 'W/\"39455e0e53078fd72851a024b98afaa4\"'), ('x-request-id', '9e7f279b-fc33-4be9-bb07-7620940410d8'), ('x-runtime', '0.139439'), ('strict-transport-security', 'max-age=31536000; includeSubDomains; preload'), ('x-cached', 'MISS'), ('cf-cache-status', 'DYNAMIC'), ('set-cookie', '__cf_bm=SxiuhXGoFYogFFXnuGDCcUrwEQ1dZAwyggbnIwXOb_0-1688905915-0-ASh8QuJWvbA00lwJK2elYzBW/s3VFqTAtTCrhwer+i9//p97Q7Ya3UVNfUa3ykgqklwUZuXJVk8ABpzp4LFWP9c=; path=/; expires=Sun, 09-Jul-23 13:01:55 GMT; domain=.truthsocial.com; HttpOnly; Secure; SameSite=None'), ('server', 'cloudflare'), ('cf-ray', '7e4096322e2aa70f-PHX')])\n"
     ]
    },
    {
     "name": "stdout",
     "output_type": "stream",
     "text": [
      "<https://truthsocial.com/api/v1/accounts/107780257626128497/following?max_id=504444552>; rel=\"next\", <https://truthsocial.com/api/v1/accounts/107780257626128497/following?since_id=590598794>; rel=\"prev\"\n"
     ]
    },
    {
     "data": {
      "text/plain": [
       "{'id': '107837198120414225',\n",
       " 'username': 'JohnRatcliffe',\n",
       " 'acct': 'JohnRatcliffe',\n",
       " 'display_name': 'John Ratcliffe',\n",
       " 'locked': False,\n",
       " 'bot': False,\n",
       " 'discoverable': True,\n",
       " 'group': False,\n",
       " 'created_at': '2022-02-21T17:37:39.233Z',\n",
       " 'note': '<p>America’s spy chief as 6th U.S. Director of National Intelligence. Former Member of Congress + U.S. Attorney</p>',\n",
       " 'url': 'https://truthsocial.com/@JohnRatcliffe',\n",
       " 'avatar': 'https://static-assets-1.truthsocial.com/tmtg:prime-ts-assets/accounts/avatars/107/837/198/120/414/225/original/728c76e9e8c1d4f7.jpeg',\n",
       " 'avatar_static': 'https://static-assets-1.truthsocial.com/tmtg:prime-ts-assets/accounts/avatars/107/837/198/120/414/225/original/728c76e9e8c1d4f7.jpeg',\n",
       " 'header': 'https://static-assets-1.truthsocial.com/tmtg:prime-ts-assets/accounts/headers/107/837/198/120/414/225/original/93e3c9f717f4a7ab.jpeg',\n",
       " 'header_static': 'https://static-assets-1.truthsocial.com/tmtg:prime-ts-assets/accounts/headers/107/837/198/120/414/225/original/93e3c9f717f4a7ab.jpeg',\n",
       " 'followers_count': 118986,\n",
       " 'following_count': 79,\n",
       " 'statuses_count': 58,\n",
       " 'last_status_at': '2023-06-11',\n",
       " 'verified': True,\n",
       " 'location': 'Washington D.C. / Dallas, Texas',\n",
       " 'website': 'www.john-ratcliffe.com',\n",
       " 'accepting_messages': True,\n",
       " 'chats_onboarded': True,\n",
       " 'pleroma': {'accepts_chat_messages': True},\n",
       " 'emojis': [],\n",
       " 'fields': []}"
      ]
     },
     "execution_count": 6,
     "metadata": {},
     "output_type": "execute_result"
    }
   ],
   "source": [
    "next(following_list)"
   ]
  }
 ],
 "metadata": {
  "kernelspec": {
   "display_name": "snscrape",
   "language": "python",
   "name": "python3"
  },
  "language_info": {
   "codemirror_mode": {
    "name": "ipython",
    "version": 3
   },
   "file_extension": ".py",
   "mimetype": "text/x-python",
   "name": "python",
   "nbconvert_exporter": "python",
   "pygments_lexer": "ipython3",
   "version": "3.11.4"
  },
  "orig_nbformat": 4
 },
 "nbformat": 4,
 "nbformat_minor": 2
}
